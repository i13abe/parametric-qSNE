{
 "cells": [
  {
   "cell_type": "code",
   "execution_count": null,
   "metadata": {},
   "outputs": [],
   "source": [
    "import sys\n",
    "from utils.datasets import Datasets\n",
    "from utils.parametric_qsne import ParametricQSNE\n",
    "from utils.save_results import saveInfo, plotGraph, plotScatter\n",
    "from utils.utils import dict2PCA, dict2kNN, numpy2dict\n",
    "from utils.networks import *\n",
    "\n",
    "import torch\n",
    "import torchvision\n",
    "import torchvision.transforms as transforms\n",
    "import torch.nn as nn\n",
    "import torch.optim as optim\n",
    "\n",
    "import numpy as np"
   ]
  },
  {
   "cell_type": "code",
   "execution_count": null,
   "metadata": {},
   "outputs": [],
   "source": [
    "device = torch.device(\"cuda:0\")\n",
    "\n",
    "DATASET = 'MNIST'\n",
    "BATCH_SIZE = 5000\n",
    "NUM_WORKERS = 2\n",
    "\n",
    "WEIGHT_DECAY = 0.0001\n",
    "LEARNING_RATE = 0.05\n",
    "STEPS = 10\n",
    "GAMMA = 0.9\n",
    "\n",
    "SEED = 1\n",
    "\n",
    "EPOCH = 100\n",
    "\n",
    "DIM = 2\n",
    "PERPLEXITY = 30.0\n",
    "q = 2.0\n",
    "\n",
    "K = 5"
   ]
  },
  {
   "cell_type": "code",
   "execution_count": null,
   "metadata": {},
   "outputs": [],
   "source": [
    "torch.cuda.manual_seed_all(SEED)\n",
    "torch.manual_seed(SEED)\n",
    "np.random.seed(SEED)\n",
    "torch.backends.cudnn.deterministic = True\n",
    "torch.backends.cudnn.benchmark = False"
   ]
  },
  {
   "cell_type": "code",
   "execution_count": null,
   "metadata": {},
   "outputs": [],
   "source": [
    "train_trans = transforms.Compose([\n",
    "            transforms.ToTensor(),\n",
    "            #transforms.Normalize((0.485, 0.456, 0.406),\n",
    "            #                     (0.229, 0.224, 0.225)),\n",
    "        ])\n",
    "test_trans = transforms.Compose([\n",
    "            transforms.ToTensor(),\n",
    "            #transforms.Normalize((0.485, 0.456, 0.406),\n",
    "            #                     (0.229, 0.224, 0.225)),\n",
    "        ])\n",
    "instance_datasets = Datasets(DATASET,\n",
    "                             BATCH_SIZE,\n",
    "                             NUM_WORKERS,\n",
    "                             transform=train_trans,\n",
    "                             test_transform=test_trans,\n",
    "                            )\n",
    "data_sets = instance_datasets.create()\n",
    "\n",
    "trainloader = data_sets[0]\n",
    "testloader = data_sets[1]\n",
    "classes = data_sets[2]\n",
    "based_labels = data_sets[3]\n",
    "input_channels = data_sets[4]\n",
    "trainset = data_sets[5]\n",
    "testset = data_sets[6]"
   ]
  },
  {
   "cell_type": "code",
   "execution_count": null,
   "metadata": {},
   "outputs": [],
   "source": [
    "model = Net(input_channels=input_channels,\n",
    "            num_classes=DIM).to(device)\n",
    "\n",
    "#optimizer = optim.SGD(model.parameters(),\n",
    "#                      lr=LEARNING_RATE,\n",
    "#                      momentum=0.9,\n",
    "#                      weight_decay=WEIGHT_DECAY)\n",
    "optimizer = optim.Adam(model.parameters(),\n",
    "                       lr=LEARNING_RATE)\n",
    "\n",
    "#scheduler = optim.lr_scheduler.StepLR(optimizer,\n",
    "#                                      step_size=STEPS,\n",
    "#                                      gamma=GAMMA)\n",
    "scheduler = None\n",
    "\n",
    "criterion = nn.KLDivLoss(reduction=\"sum\")\n",
    "\n",
    "pqsne = ParametricQSNE(model,\n",
    "                        optimizer,\n",
    "                        criterion,\n",
    "                        q,\n",
    "                        PERPLEXITY)"
   ]
  },
  {
   "cell_type": "code",
   "execution_count": null,
   "metadata": {},
   "outputs": [],
   "source": [
    "losses = pqsne.fit(EPOCH,\n",
    "                    trainloader,\n",
    "                    scheduler=scheduler,\n",
    "                    device=device,\n",
    "                    )"
   ]
  },
  {
   "cell_type": "code",
   "execution_count": null,
   "metadata": {},
   "outputs": [],
   "source": [
    "plotGraph(losses, 5.0, filename=\"loss\")"
   ]
  },
  {
   "cell_type": "code",
   "execution_count": null,
   "metadata": {},
   "outputs": [],
   "source": [
    "info = {}\n",
    "info[\"DATASET\"] = DATASET\n",
    "info[\"Learnign_rate\"] = LEARNING_RATE\n",
    "info[\"Weight_decay\"] = WEIGHT_DECAY\n",
    "info[\"EPOCH\"] = EPOCH\n",
    "info[\"STEPS\"] = STEPS\n",
    "info[\"GAMMA\"] = GAMMA\n",
    "info[\"q\"] = q\n",
    "info[\"PERPLEXITY\"] = PERPLEXITY\n",
    "info[\"DIM\"] = DIM\n",
    "info[\"K\"] = K\n",
    "info[\"Model\"] = model\n",
    "info[\"Criterion\"] = criterion\n",
    "info[\"Optimizer\"] = optimizer\n",
    "info[\"train_loss\"] = losses[\"train\"][-1]"
   ]
  },
  {
   "cell_type": "code",
   "execution_count": null,
   "metadata": {
    "scrolled": true
   },
   "outputs": [],
   "source": [
    "saveInfo(info, DATASET+\"_info\")"
   ]
  },
  {
   "cell_type": "code",
   "execution_count": null,
   "metadata": {},
   "outputs": [],
   "source": [
    "torch.save(model.state_dict(), 'param.pth')\n",
    "torch.save(model, 'model.pth')"
   ]
  },
  {
   "cell_type": "code",
   "execution_count": null,
   "metadata": {},
   "outputs": [],
   "source": [
    "train_embedding = pqsne.getOutputs(trainloader, based_labels)\n",
    "test_embedding = pqsne.getOutputs(testloader, based_labels)"
   ]
  },
  {
   "cell_type": "code",
   "execution_count": null,
   "metadata": {},
   "outputs": [],
   "source": [
    "#train_embedding, test_embedding, pca = dict2PCA(train_embedding,\n",
    "#                                                test_embedding,\n",
    "#                                                dim=2)"
   ]
  },
  {
   "cell_type": "code",
   "execution_count": null,
   "metadata": {
    "scrolled": true
   },
   "outputs": [],
   "source": [
    "plotScatter(train_embedding, s=1, filename=\"train_embeddings\")\n",
    "plotScatter(test_embedding, s=1, filename=\"test_embeddings\")"
   ]
  },
  {
   "cell_type": "code",
   "execution_count": null,
   "metadata": {},
   "outputs": [],
   "source": [
    "train_score, kNN = dict2kNN(train_embedding, K)\n",
    "test_score, _ = dict2kNN(test_embedding, K, kNN)\n",
    "print(train_score, test_score)"
   ]
  },
  {
   "cell_type": "code",
   "execution_count": null,
   "metadata": {
    "scrolled": true
   },
   "outputs": [],
   "source": []
  },
  {
   "cell_type": "code",
   "execution_count": null,
   "metadata": {},
   "outputs": [],
   "source": []
  },
  {
   "cell_type": "code",
   "execution_count": null,
   "metadata": {},
   "outputs": [],
   "source": []
  },
  {
   "cell_type": "code",
   "execution_count": null,
   "metadata": {},
   "outputs": [],
   "source": []
  },
  {
   "cell_type": "code",
   "execution_count": null,
   "metadata": {},
   "outputs": [],
   "source": []
  },
  {
   "cell_type": "code",
   "execution_count": null,
   "metadata": {},
   "outputs": [],
   "source": []
  },
  {
   "cell_type": "code",
   "execution_count": null,
   "metadata": {},
   "outputs": [],
   "source": []
  },
  {
   "cell_type": "code",
   "execution_count": null,
   "metadata": {},
   "outputs": [],
   "source": []
  },
  {
   "cell_type": "code",
   "execution_count": null,
   "metadata": {},
   "outputs": [],
   "source": []
  },
  {
   "cell_type": "code",
   "execution_count": null,
   "metadata": {},
   "outputs": [],
   "source": []
  },
  {
   "cell_type": "code",
   "execution_count": null,
   "metadata": {},
   "outputs": [],
   "source": []
  },
  {
   "cell_type": "code",
   "execution_count": null,
   "metadata": {},
   "outputs": [],
   "source": []
  },
  {
   "cell_type": "code",
   "execution_count": null,
   "metadata": {},
   "outputs": [],
   "source": []
  },
  {
   "cell_type": "code",
   "execution_count": null,
   "metadata": {},
   "outputs": [],
   "source": []
  },
  {
   "cell_type": "code",
   "execution_count": null,
   "metadata": {},
   "outputs": [],
   "source": []
  }
 ],
 "metadata": {
  "kernelspec": {
   "display_name": "Python 3",
   "language": "python",
   "name": "python3"
  },
  "language_info": {
   "codemirror_mode": {
    "name": "ipython",
    "version": 3
   },
   "file_extension": ".py",
   "mimetype": "text/x-python",
   "name": "python",
   "nbconvert_exporter": "python",
   "pygments_lexer": "ipython3",
   "version": "3.7.10"
  }
 },
 "nbformat": 4,
 "nbformat_minor": 4
}
